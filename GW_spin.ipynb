{
 "cells": [
  {
   "cell_type": "markdown",
   "metadata": {},
   "source": [
    "# Binary Systems in Astrophysics WS 2021/2022"
   ]
  },
  {
   "cell_type": "markdown",
   "metadata": {},
   "source": [
    "Last practical session! For this tutorial we will learn how does the spin affect the waveform of a black hole binary merger. In order to do so we will use the software binaryBHexp (https://pypi.org/project/binaryBHexp, https://vijayvarma392.github.io/binaryBHexp). \n",
    "\n",
    "As you probably know, simulating strong sources of gravitational waves is out of hand of tutorials like this. However, binaryBHexp allows an easy, fast visualization of mergers using python libraries and load results from pre-comupted numerical simulations. Here we will not use python, but explain how the software works so you can creat your own animations of mergers. For more details, check the webpages from before or https://arxiv.org/abs/1811.06552."
   ]
  },
  {
   "cell_type": "markdown",
   "metadata": {},
   "source": [
    "As always, you can get this jupyter notebook entering your local binary folder linked to GitLab and pulling the new material:\n",
    "\n",
    "$ git pull"
   ]
  },
  {
   "cell_type": "markdown",
   "metadata": {},
   "source": [
    "If you do not have binaryBHexp, you can install it with ...\n",
    "\n",
    "$ pip install binaryBHexp\n"
   ]
  },
  {
   "cell_type": "markdown",
   "metadata": {},
   "source": [
    " ## 10. Simulations of spinning black hole binaries"
   ]
  },
  {
   "cell_type": "markdown",
   "metadata": {},
   "source": [
    "As explained before, binaryBHexp will use pre-computed simulations in order to allow the visualization of mergers. For this purpose, we will not use python, but the terminal directly!\n",
    "\n",
    "All the information that we are going to use can be found just by typing terminal"
   ]
  },
  {
   "cell_type": "code",
   "execution_count": 1,
   "metadata": {
    "scrolled": true
   },
   "outputs": [
    {
     "name": "stdout",
     "output_type": "stream",
     "text": [
      "usage: binaryBHexp [-h] --q Q --chiA CHIA CHIA CHIA --chiB CHIB CHIB CHIB\r\n",
      "                   [--omega_ref OMEGA_REF] [--save_file SAVE_FILE]\r\n",
      "                   [--auto_rotate_camera] [--project_on_all_planes]\r\n",
      "                   [--height_map] [--draw_full_trajectory]\r\n",
      "                   [--use_spin_angular_momentum_for_arrows]\r\n",
      "                   [--no_freeze_near_merger] [--omega_start OMEGA_START]\r\n",
      "                   [--no_wave_time_series]\r\n",
      "                   [--uniform_time_step_size UNIFORM_TIME_STEP_SIZE]\r\n",
      "                   [--still_time STILL_TIME] [--no_time_label]\r\n",
      "                   [--no_surrogate_label]\r\n",
      "\r\n",
      "binaryBHexp\r\n",
      "========\r\n",
      "\r\n",
      "The binary Black Hole explorer.\r\n",
      "Generates visualizations of a precessing binary black hole merger and the\r\n",
      "final remnant black hole.\r\n",
      "\r\n",
      "Example usage:\r\n",
      "./binaryBHexp --q 2 --chiA 0.2 0.7 -0.1 --chiB 0.2 0.6 0.1\r\n",
      "\r\n",
      "By clicking and dragging on the movie as it plays, you change the viewing\r\n",
      "angle and see how the waveform changes.\r\n",
      "\r\n",
      "optional arguments:\r\n",
      "  -h, --help            show this help message and exit\r\n",
      "\r\n",
      "Standard options:\r\n",
      "  --q Q                 Mass ratio. Currently 1 <= q <= 2. (default: None)\r\n",
      "  --chiA CHIA CHIA CHIA\r\n",
      "                        Dimensionless spin of BhA at omega_ref. List of size\r\n",
      "                        3. (default: None)\r\n",
      "  --chiB CHIB CHIB CHIB\r\n",
      "                        Dimensionless spin of BhB at omega_ref. List of size\r\n",
      "                        3. (default: None)\r\n",
      "  --omega_ref OMEGA_REF\r\n",
      "                        Reference orbital frequency, in units of rad/M.\r\n",
      "                        Currently, >= 0.018. If specified, assumes the above\r\n",
      "                        spins are specified at this frequency, in the\r\n",
      "                        coorbital frame. Else, assumes the spins are specified\r\n",
      "                        at t=-100M from the peak of the waveform, in the\r\n",
      "                        coorbital frame. The coorbital frame is defined as:\r\n",
      "                        The z-axis is along the orbital angular momentum at\r\n",
      "                        that time/frequency. The x-axis is along the line of\r\n",
      "                        separation from the smaller BH to the larger BH at\r\n",
      "                        that time/frequency. The y-axis completes the triad.\r\n",
      "                        (default: None)\r\n",
      "  --save_file SAVE_FILE\r\n",
      "                        File to save animation to. If given, will save\r\n",
      "                        animation to this file. Else will show animation. Use\r\n",
      "                        this option if live rendering is slow. Allowed\r\n",
      "                        extensions are mp4 and gif. mp4 has the best quality.\r\n",
      "                        We use lower quality for gif to reduce file size.\r\n",
      "                        Example: --save_file movie.mp4 (default: None)\r\n",
      "  --auto_rotate_camera  Auto rotates camera viewing angle. You can see the\r\n",
      "                        waveform change. (default: False)\r\n",
      "\r\n",
      "Non standard options (mainly for developers):\r\n",
      "  --project_on_all_planes\r\n",
      "                        If given, projects the waveform on all three back\r\n",
      "                        planes. By default only does the x-y plane at the\r\n",
      "                        bottom. This can interfere with the BH shapes. This is\r\n",
      "                        disabled if auto_rotate_camera is set. (default:\r\n",
      "                        False)\r\n",
      "  --height_map          Map h to a height to visualize in the xy plane instead\r\n",
      "                        of a contour plot. Turns off project_on_all_planes.\r\n",
      "                        (default: False)\r\n",
      "  --draw_full_trajectory\r\n",
      "                        If given, draws the entire trajectories of the\r\n",
      "                        components. Else only retains the last 3/4th of an\r\n",
      "                        orbit. (default: False)\r\n",
      "  --use_spin_angular_momentum_for_arrows\r\n",
      "                        By default the spin arrows are proportional to the\r\n",
      "                        Kerr parameter a. If this is given, they are made\r\n",
      "                        proportional to the spin angular momentum = m * a,\r\n",
      "                        instead. (default: False)\r\n",
      "  --no_freeze_near_merger\r\n",
      "                        Normally the movie is frozen close to merger for a few\r\n",
      "                        seconds. This option disables this feature. (default:\r\n",
      "                        False)\r\n",
      "  --omega_start OMEGA_START\r\n",
      "                        Starting orbital frequency, in units of rad/M.\r\n",
      "                        Currently, >= 0.018. This is different from omega_ref,\r\n",
      "                        and instead controls the length of the visualization\r\n",
      "                        and the waveform by starting the visualization at this\r\n",
      "                        orbital frequency. (default: None)\r\n",
      "  --no_wave_time_series\r\n",
      "                        Normally we show an interactive waveform time series\r\n",
      "                        at the bottom which changes based on viewing angle.\r\n",
      "                        This disables this feature. However, this will let you\r\n",
      "                        pause the movie by clicking on it. (default: False)\r\n",
      "  --uniform_time_step_size UNIFORM_TIME_STEP_SIZE\r\n",
      "                        Normally the movie time steps are uniform in orbital\r\n",
      "                        phase. This ensures it slows down appropriately near\r\n",
      "                        merger. This option disables this feature, instead the\r\n",
      "                        movie time steps are uniform in simulation time, with\r\n",
      "                        a step size=uniform_time_step_size. (default: None)\r\n",
      "  --still_time STILL_TIME\r\n",
      "                        If given, saves a plot of the movie at this time and\r\n",
      "                        exits. (default: None)\r\n",
      "  --no_time_label       Do not show the current time in the figtext. (default:\r\n",
      "                        False)\r\n",
      "  --no_surrogate_label  Do not show the surrogate names in the figtext.\r\n",
      "                        (default: False)\r\n"
     ]
    }
   ],
   "source": [
    "!binaryBHexp -h"
   ]
  },
  {
   "cell_type": "markdown",
   "metadata": {},
   "source": [
    "Let's run the simplest orbit possible:"
   ]
  },
  {
   "cell_type": "code",
   "execution_count": 1,
   "metadata": {},
   "outputs": [
    {
     "name": "stdout",
     "output_type": "stream",
     "text": [
      "Loaded surfinBH7dq2 fit.\n",
      "Figure(510x540)\n"
     ]
    }
   ],
   "source": [
    "!binaryBHexp --q 1 --chiA 0.0 0.0 0.0 --chiB 0.0 0.0 0.0"
   ]
  },
  {
   "cell_type": "markdown",
   "metadata": {},
   "source": [
    "You can see now the merger of the two black holes. The simulation freezes shortly before the merger, and it takes some time: in order to show better the merger, the simulation slows down when getting closer to the merger. Projected on the x-y plane you can see the quadripolar nature of the gravitational wave source. You might also be intrigued also about the circular orbit. But as we have learned along the course, circularization of the orbit is produced during the evolution of the systems. During the merger, eccentricities will be mostly negligible.\n",
    "\n",
    "As you probably have guessed, q is the ratio of the masses, thus q=1 means that both masses are the same. The package binaryBHexp has (currently) a limited range of 1 < q < 2. How does it look the waveform when q differs from 1?"
   ]
  },
  {
   "cell_type": "code",
   "execution_count": 11,
   "metadata": {},
   "outputs": [
    {
     "name": "stdout",
     "output_type": "stream",
     "text": [
      "Loaded surfinBH7dq2 fit.\n",
      "Figure(510x540)\n"
     ]
    }
   ],
   "source": [
    "!binaryBHexp --q 2 --chiA 0.0 0.0 0.0 --chiB 0.0 0.0 0.0"
   ]
  },
  {
   "cell_type": "markdown",
   "metadata": {},
   "source": [
    "The remaining two parameters (i.e. chiA and chiB) are the vectors defining the spin of the black holes, in this case we are using Schwarzschild black holes. What happens if we add spin?"
   ]
  },
  {
   "cell_type": "code",
   "execution_count": 3,
   "metadata": {},
   "outputs": [],
   "source": [
    "!binaryBHexp --q 1 --chiA 0.0 0.0 0.5 --chiB 0.0 0.0 0.5 "
   ]
  },
  {
   "cell_type": "markdown",
   "metadata": {},
   "source": [
    "You can see now also the arrow representing the general angular momentum from the orbit. Interestingly, the losses due to GW radiation are larger when the spins are aligned that when they are antialigned. Also the merger is faster!\n",
    "\n",
    "But what happens if those spins are not aligned?"
   ]
  },
  {
   "cell_type": "code",
   "execution_count": 10,
   "metadata": {},
   "outputs": [
    {
     "name": "stdout",
     "output_type": "stream",
     "text": [
      "Loaded surfinBH7dq2 fit.\n",
      "Figure(510x540)\n"
     ]
    }
   ],
   "source": [
    "!binaryBHexp --q 2 --chiA 0.2 0.7 -0.1 --chiB 0.2 0.6 0.1\n"
   ]
  },
  {
   "cell_type": "markdown",
   "metadata": {},
   "source": [
    "Now the orbit precesses! Surprisingly (or not) you can see now how the waveform for both polarizations at some points has the same phase. Therefore knowing both polarizations can help us determining the spins of the original black holes.\n",
    "\n",
    "Finally, you can save your simulation with\n"
   ]
  },
  {
   "cell_type": "code",
   "execution_count": null,
   "metadata": {},
   "outputs": [],
   "source": [
    "!--save_fil esimulation.mp4"
   ]
  },
  {
   "cell_type": "markdown",
   "metadata": {},
   "source": [
    "### Exercise"
   ]
  },
  {
   "cell_type": "markdown",
   "metadata": {},
   "source": [
    "Now is time for you to play around. Notice that the plot is interactive and you can change the viewing angle!\n",
    "\n",
    "- How does change the waveform with the viewing angle?\n",
    "- How does change the waveform with the spin?\n",
    "- How does change the waveform with the precession?\n",
    "- Sometimes, the resulting black hole gets a \"kick\" at the end. That means that after a merger, the remnant migh not stay still and inherit some momentum. Why does this occur? When?"
   ]
  },
  {
   "cell_type": "markdown",
   "metadata": {},
   "source": []
  }
 ],
 "metadata": {
  "kernelspec": {
   "display_name": "Python 3",
   "language": "python",
   "name": "python3"
  },
  "language_info": {
   "codemirror_mode": {
    "name": "ipython",
    "version": 3
   },
   "file_extension": ".py",
   "mimetype": "text/x-python",
   "name": "python",
   "nbconvert_exporter": "python",
   "pygments_lexer": "ipython3",
   "version": "3.8.5"
  }
 },
 "nbformat": 4,
 "nbformat_minor": 4
}
